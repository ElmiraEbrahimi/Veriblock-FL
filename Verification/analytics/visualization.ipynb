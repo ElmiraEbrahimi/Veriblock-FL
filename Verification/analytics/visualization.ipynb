{
 "cells": [
  {
   "cell_type": "code",
   "execution_count": null,
   "metadata": {},
   "outputs": [],
   "source": [
    "import pandas as pd\n",
    "import matplotlib.pyplot as plt\n",
    "\n",
    "# Load data\n",
    "df = pd.read_csv('./analytics_memory.csv')\n"
   ]
  },
  {
   "cell_type": "code",
   "execution_count": null,
   "metadata": {},
   "outputs": [],
   "source": [
    "# Convert string \n",
    "import ast\n",
    "\n",
    "def literal_eval_col(col):\n",
    "    try:\n",
    "        return ast.literal_eval(col)\n",
    "    except ValueError:\n",
    "        return []\n",
    "\n",
    "df['all_mem_compile'] = df['all_mem_compile'].apply(literal_eval_col)\n",
    "df['all_mem_setup'] = df['all_mem_setup'].apply(literal_eval_col)\n",
    "df['all_mem_compute_witness'] = df['all_mem_compute_witness'].apply(literal_eval_col)\n",
    "df['all_mem_generate_proof'] = df['all_mem_generate_proof'].apply(literal_eval_col)\n",
    "df['all_mem_export_verifier'] = df['all_mem_export_verifier'].apply(literal_eval_col)"
   ]
  },
  {
   "cell_type": "code",
   "execution_count": null,
   "metadata": {},
   "outputs": [],
   "source": [
    "# plot memory usage\n",
    "def plot_memory_usage(memory_list, title):\n",
    "    # Calculate time points\n",
    "    time_points = [i * 0.05 for i in range(len(memory_list))]\n",
    "    plt.figure(figsize=(10, 6))\n",
    "    plt.plot(time_points, memory_list, label=title)\n",
    "    plt.xlabel('Time (Seconds)')\n",
    "    plt.ylabel('Memory Usage (Bytes)')\n",
    "    plt.title(f'Memory requirements of {title}')\n",
    "    plt.legend()\n",
    "    plt.show()\n",
    "# Plot each operation\n",
    "plot_memory_usage(df['all_mem_compile'].explode().values, 'Compilation')\n",
    "plot_memory_usage(df['all_mem_setup'].explode().values, 'Setup')\n",
    "plot_memory_usage(df['all_mem_compute_witness'].explode().values, 'Witness')\n",
    "plot_memory_usage(df['all_mem_generate_proof'].explode().values, 'Proof')"
   ]
  }
 ],
 "metadata": {
  "language_info": {
   "name": "python"
  }
 },
 "nbformat": 4,
 "nbformat_minor": 2
}
